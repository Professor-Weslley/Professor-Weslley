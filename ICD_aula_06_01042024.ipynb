{
  "nbformat": 4,
  "nbformat_minor": 0,
  "metadata": {
    "colab": {
      "provenance": [],
      "authorship_tag": "ABX9TyM5oLUBkHfc9cBUPnEuwCLi",
      "include_colab_link": true
    },
    "kernelspec": {
      "name": "python3",
      "display_name": "Python 3"
    },
    "language_info": {
      "name": "python"
    }
  },
  "cells": [
    {
      "cell_type": "markdown",
      "metadata": {
        "id": "view-in-github",
        "colab_type": "text"
      },
      "source": [
        "<a href=\"https://colab.research.google.com/github/Professor-Weslley/Professor-Weslley/blob/main/ICD_aula_06_01042024.ipynb\" target=\"_parent\"><img src=\"https://colab.research.google.com/assets/colab-badge.svg\" alt=\"Open In Colab\"/></a>"
      ]
    },
    {
      "cell_type": "markdown",
      "source": [
        "#Introdução à Ciência De Dados\n",
        "##abordagem prática e revisão geral dos conceitos vistos:\n",
        "\n",
        "\n",
        "1.   Visâo Geral sobre dados, ciclo de vidas, tipos: cetgóricos, não-categóricos etc.\n",
        "2.   Ciclode vida e busca de informações;\n",
        "3. Segurança de Dados;\n",
        "4. Pensamento analitico;\n",
        "5. Introdção e uso:Application Programming Interfac\n",
        "\n"
      ],
      "metadata": {
        "id": "RHc7j39xuzq_"
      }
    },
    {
      "cell_type": "markdown",
      "source": [
        "# Conceitos abordados, hoje vamos avançar mais um passo em busca das informçãoes na WEB.\n",
        "\n",
        "\n",
        "\n",
        "```\n",
        "GÊNIOS: SABEM O QUE É UMA API?\n",
        "```\n",
        "##Para abordar esse conceito, vamos fazer uma busca real de informações em um portal que é vocacionado a barrar a prática de webscraping ou outras que visam buscar informação de formma automatizada.\n",
        "\n",
        "###Aproveitando o momento: já visualizaram como essas ultimas aulas cheias de webscraping podem ser utéis no cotidiano de um DS? (Data Scientist)\n",
        "\n",
        "###Fazem ideia de como automatizar esse processo? Ou vamos ter que abrir o Colab e o Pandinha toda vez que quisermos alguma informação? Chute técnico?\n",
        "\n",
        "---\n",
        "##Análise de Dados de Criptomoedas com Python\n",
        "Vamos continuar a analise de dados no campo das Cryptos, porém avançando nos conceitos de segurança.\n",
        "\n",
        "---\n",
        "##Introdução às APIs\n",
        "Antes de mergulharmos no código, é essencial entender o que é uma API. API significa \"Application Programming Interface\" (Interface de Programação de Aplicações). Uma API permite que dois aplicativos se comuniquem entre si. Neste caso, utilizaremos a API do CoinMarketCap para obter dados de criptomoedas.\n",
        "\n",
        "Para acessar a API do CoinMarketCap, você precisará de uma chave de API, que é uma credencial que permite que seu código se autentique com a API. Você pode obter sua própria chave de API registrando-se no site do CoinMarketCap e acessando a seção de desenvolvedores\n",
        "\n",
        "\n",
        "---\n",
        "\n",
        "##Hoje você vai fazer mais uma ação \"Direto do mund da fantasia real\". Vai criar sua primeira API (se não for a primeira, finge que esqueceu a outra ou outras ok...rsrs)\n",
        "\n",
        "\n",
        "\n",
        "\n",
        "\n"
      ],
      "metadata": {
        "id": "AkPTojPUwPYJ"
      }
    },
    {
      "cell_type": "markdown",
      "source": [
        "# Eiii...lembretes importantes e avisos adversos (adversos, prof.?)\n",
        "\n",
        "###Não é aula de apertar o \"Play\". Pensem de forma crítica. Vejam se a ordem das coisas está fazendo sentido. Mudem o nome dos Data Frames que criarem. Inovem, renovem..."
      ],
      "metadata": {
        "id": "hBycmkkvgriH"
      }
    },
    {
      "cell_type": "markdown",
      "source": [
        "#Início da Festa!\n",
        "\n",
        "##Importem as bibliotecas.\n",
        "\n",
        "\n",
        "\n",
        "```\n",
        "import requests\n",
        "import pandas as pd\n",
        "import matplotlib.pyplot as plt\n",
        "from IPython.display import display ***\n",
        "\n",
        "```\n",
        "\n"
      ],
      "metadata": {
        "id": "c8H-asYlw5pm"
      }
    },
    {
      "cell_type": "markdown",
      "source": [
        "## IPython.display . Já conheciam? Ou pensam só no Pandinha?"
      ],
      "metadata": {
        "id": "OXK96GdRzSpm"
      }
    },
    {
      "cell_type": "markdown",
      "source": [
        "O **IPython.display** é um módulo que oferece funções para exibir dados de forma mais interativa e visualmente atrativa em ambientes como Jupyter Notebook ou Google Colab.\n",
        "\n",
        "A função display é usada para mostrar objetos Python de maneira mais elaborada do que simplesmente imprimi-los, tornando a apresentação de dados mais rica e interativa.\n",
        "\n",
        "Para usar a função display, basta chamá-la e passar o objeto que deseja exibir como argumento. Por exemplo, para mostrar um DataFrame do pandas de forma estilizada em um notebook, você pode usar:\n",
        "\n",
        "\n",
        "\n",
        "```\n",
        "from IPython.display import display\n",
        "display(df.head(10).style.set_table_styles([...]))\n",
        "```\n",
        "\n",
        "Aqui, Gênios, um exemplo genérico.\n",
        "Para saber\n",
        "mais paramêtros da função display, peça ajuda:\n",
        "\n",
        "```\n",
        "help(display)\n",
        "```\n",
        "\n",
        "\n",
        "---\n",
        "\n",
        "\n",
        "\n"
      ],
      "metadata": {
        "id": "OVdA9lvlxu_r"
      }
    },
    {
      "cell_type": "markdown",
      "source": [
        "##Definindo a URL da API e o Cabeçalho de Solicitação\n",
        "\n",
        "\n",
        "\n",
        "```\n",
        "url = \"https://pro-api.coinmarketcap.com/v1/cryptocurrency/listings/latest\"\n",
        "\n",
        "headers = {'Accepts': 'application/json',\n",
        "    'X-CMC_PRO_API_KEY': 'sua_chave_de_api_aqui',}\n",
        "```\n",
        "\n",
        "\n"
      ],
      "metadata": {
        "id": "UfCaLVkV0Un8"
      }
    },
    {
      "cell_type": "markdown",
      "source": [
        "## Me lembra aí, Prof. Ficou meio tenso aqui!\n",
        "\n",
        "###Veja os detalhes, turma:\n",
        "\n",
        "**URL da API:** A URL especificada é \"https://pro-api.coinmarketcap.com/v1/cryptocurrency/listings/latest\", que é a URL base para acessar os dados mais recentes sobre listagens de criptomoedas.\n",
        "\n",
        "**Cabeçalhos (Headers):** Os cabeçalhos são informações adicionais que são enviadas junto com a solicitação HTTP. Neste caso, existem dois cabeçalhos especificados:\n",
        "\n",
        "*   Accepts: Este cabeçalho especifica o tipo de conteúdo que o cliente (você, neste caso) está disposto a aceitar da resposta do servidor. Aqui, é definido como \"application/json\", o que significa que o cliente prefere receber os dados no formato JSON.\n",
        "\n",
        "*   X-CMC_PRO_API_KEY: Este é um cabeçalho personalizado usado pelo CoinMarketCap para autenticação. Ele espera que você forneça uma chave de API válida como seu valor. Sem essa chave, a solicitação pode ser recusada pelo servidor.\n",
        "\n",
        "\n",
        "**Chave da API:** O valor 'sua_chave_de_api_aqui' precisa ser substituído pela sua chave de API real fornecida pelo CoinMarketCap quando você se registrar para acessar sua API."
      ],
      "metadata": {
        "id": "EzDwGK1E1Eti"
      }
    },
    {
      "cell_type": "markdown",
      "source": [
        "\n",
        "\n",
        "---\n",
        "Turma... não se apeguem ao código, novamente, neste momento, hoje vamos ver exemplos diferentes e coias novas. O apelo é para que busquem, estudem, façam uso das informações. Preciso mostrar que é possível, mas terão tempo ára apredner a utilizá-las com \"calma e elegância\"\n",
        "\n",
        "\n",
        "###Oremos...ops...Continuemos!\n",
        "\n",
        "\n",
        "---\n",
        "\n",
        "##Requisição, conversão para Data Frame e Limpeza básica.\n",
        "\n",
        "1. REQUISIÇÃO\n",
        "\n",
        "\n",
        "###vejam que \"df\" é uma forma bem costumeira de nominar um dataframe genérico nos códigos, mas tenham atenção para não acabar substituindo de forma eqivocada (famoso ... salvar por cima)\n",
        "\n",
        "```\n",
        "df['price'] = df['quote'].apply(lambda x: x['USD']['price'])\n",
        "df['volume_24h'] = df['quote'].apply(lambda x: x['USD']['volume_24h'])\n",
        "df = df.drop('quote', axis=1)\n",
        "\n",
        "```\n",
        "Quase igual fizemos na aula passada, vejam que utilizando o método get da biblioteca requests, fazemos uma chamada à API e obtemos a resposta. Em seguida, convertemos essa resposta, q**ue vem em formato JSON**, em um objeto Python para manipulação.\n",
        "\n",
        "Mas vai vendo!!!\n"
      ],
      "metadata": {
        "id": "KahimpZDyvkV"
      }
    },
    {
      "cell_type": "markdown",
      "source": [
        "\n",
        "##Requisição e *JSON*\n",
        "\n",
        "\n",
        "\n",
        "```\n",
        "response = requests.get(url, headers=headers)\n",
        "data = response.json()\n",
        "\n",
        "```\n",
        "* JSON (JavaScript Object Notation) é um formato de texto simples para troca de dados. Ele é amplamente utilizado para enviar dados entre um servidor e um cliente na web e é bastante comum em APIs, como a que você está acessando. A estrutura de um JSON é muito semelhante à estrutura de dados de um objeto em JavaScript.\n",
        "\n",
        "* Por outro lado, em Python, temos uma estrutura de dados chamada de dicionário (dictionary), que é semelhante a um objeto JavaScript. Um dicionário em Python é uma coleção de pares chave-valor, onde cada chave é única e mapeia para um valor.\n",
        "\n",
        "* Quando você usa o método json() em um objeto de resposta da biblioteca requests em Python, ele interpreta o conteúdo da resposta, que está no formato JSON, e o converte em um objeto Python, normalmente um dicionário ou uma lista (quando o JSON é um array). Essa conversão é realizada automaticamente pela biblioteca requests quando você chama response.json().\n",
        "\n",
        "* Uma vez que os dados estão em um objeto Python, você pode manipulá-los facilmente usando as estruturas de controle de Python, como loops, condicionais, funções e assim por diante. Você também pode acessar os dados usando a notação de colchetes ([]) para chaves de dicionário ou índices de lista, o que torna a manipulação dos dados muito conveniente.\n",
        "\n",
        "**Em resumo, a conversão de JSON para um objeto Python facilita muito a manipulação e análise de dados em Python, permitindo que você os utilize em seu código de forma eficiente e sem complicações.**\n",
        "\n",
        "\n"
      ],
      "metadata": {
        "id": "MCRMfRfN28A8"
      }
    },
    {
      "cell_type": "markdown",
      "source": [
        "\n",
        "\n",
        "---\n",
        "##Conversão de Dados para DataFrame\n",
        "\n",
        "\n",
        "```\n",
        "df = pd.DataFrame(data['data'])\n",
        "df = df[['name', 'symbol', 'quote']]\n",
        "```\n",
        "\n",
        "Aqui, convertemos os dados obtidos em um DataFrame do pandas, que é uma estrutura de dados bidimensional semelhante a uma tabela.\n",
        "Selecionamos as colunas que são relevantes para nossa análise.\n",
        "\n",
        "##Extração e Limpeza de Dados\n",
        "\n",
        "\n",
        "\n",
        "```\n",
        "df['price'] = df['quote'].apply(lambda x: x['USD']['price'])\n",
        "df['volume_24h'] = df['quote'].apply(lambda x: x['USD']['volume_24h'])\n",
        "df = df.drop('quote', axis=1)\n",
        "```\n",
        "\n",
        "\n",
        "\n",
        "Neste passo, extraímos informações específicas de preço e volume de negociação das últimas 24 horas.\n",
        "\n",
        "###Alerta do Prof.: removemos a coluna 'quote' não é mais necessária. Verão comigo (se o chefão lá em cima assim desejar) em RDI, as razões pelas quais vamos deixando \"dados pela estrada\". Aqui quero que tenham em mente, agora de forma prática, que não precisamos carregar bases enormes com informações que não utilizaremos.\n"
      ],
      "metadata": {
        "id": "Xy6sb3yf3W_u"
      }
    },
    {
      "cell_type": "markdown",
      "source": [
        "##Agora vem a cerejinha\n",
        "\n",
        "\n",
        "\n",
        "```\n",
        "def highlight_columns(s):\n",
        "    return ['background-color: #a2d2ff' if s.name in ['price', 'volume_24h'] else '' for v in s]\n",
        "\n",
        "df_styled = df.head(10).style.apply(highlight_columns) \\\n",
        "    .set_table_styles([{'selector': 'th', 'props': [('background', '#0077b6'), ('color', 'white')]},]) \\\n",
        "    .set_properties(**{'text-align': 'center', 'font-size': '12pt'}) \\\n",
        "    .set_caption(\"Top 10 Criptomoedas\")\n",
        "\n",
        "display(df_styled)\n",
        "\n",
        "```\n",
        " Aplicamos estilos diferentes para as células, destacando as colunas 'price' e 'volume_24h'. Definimos cores de fundo e de texto, alinhamento, tamanho de fonte e um cabeçalho para a tabela.\n",
        "Se precisar de ajuda, chama o Help, Gênio!\n",
        "\n",
        "\n",
        "\n",
        "---\n",
        "\n"
      ],
      "metadata": {
        "id": "j2uzkiBp38ro"
      }
    },
    {
      "cell_type": "markdown",
      "source": [
        "Para fechar com chve de ouro!!! Um gráfico bem bonitinho. Lembre-se. Aqui é o final de tudo, onde você apresenta o resultado de toda essa trabalheira. Divirtam-se e experimente,mm utras formas que sejam válidas."
      ],
      "metadata": {
        "id": "S-fDpZkl4SOp"
      }
    },
    {
      "cell_type": "markdown",
      "source": [
        "#*The end* ou Quase... se sobrou algum tempo quero faar, e quem sabe até configurar, o GITHUB de vocês.\n",
        "\n",
        "\n"
      ],
      "metadata": {
        "id": "uA8f5sHb4mCD"
      }
    },
    {
      "cell_type": "code",
      "source": [],
      "metadata": {
        "id": "JVrSgmzCiuHI"
      },
      "execution_count": null,
      "outputs": []
    }
  ]
}
